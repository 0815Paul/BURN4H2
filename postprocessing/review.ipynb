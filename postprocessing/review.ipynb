{
 "cells": [
  {
   "cell_type": "code",
   "execution_count": 1,
   "metadata": {},
   "outputs": [],
   "source": [
    "import matplotlib "
   ]
  },
  {
   "cell_type": "code",
   "execution_count": 4,
   "metadata": {},
   "outputs": [
    {
     "name": "stdout",
     "output_type": "stream",
     "text": []
    }
   ],
   "source": [
    "import pandas as pd\n",
    "import matplotlib.pyplot as plt\n",
    "\n",
    "plt.style.use(\"dark_background\")\n",
    "\n",
    "df_2025 = pd.read_csv('../data/input/prices/ue24/h2_price_2025.csv')\n",
    "df_2030 = pd.read_csv('../data/input/prices/ue24/h2_price_2030.csv')\n",
    "df_2050 = pd.read_csv('../data/input/prices/ue24/h2_price_2050.csv')\n",
    "\n",
    "plt.figure(figsize=(8,5))\n",
    "plt.plot(df_2025['t'], df_2025['value'], color='white', linestyle='solid', label='H2 Price 2025')\n",
    "plt.plot(df_2030['t'], df_2030['value'], color='white', linestyle='dashed', label='H2 Price 2030')\n",
    "plt.plot(df_2050['t'], df_2050['value'], color='white', linestyle='dotted', label='H2 Price 2050')\n",
    "plt.xlabel(\"Time (t)\")\n",
    "plt.ylabel(\"H2 Price\")\n",
    "plt.legend()\n",
    "plt.show()"
   ]
  }
 ],
 "metadata": {
  "kernelspec": {
   "display_name": ".venv",
   "language": "python",
   "name": "python3"
  },
  "language_info": {
   "codemirror_mode": {
    "name": "ipython",
    "version": 3
   },
   "file_extension": ".py",
   "mimetype": "text/x-python",
   "name": "python",
   "nbconvert_exporter": "python",
   "pygments_lexer": "ipython3",
   "version": "3.9.13"
  }
 },
 "nbformat": 4,
 "nbformat_minor": 2
}
