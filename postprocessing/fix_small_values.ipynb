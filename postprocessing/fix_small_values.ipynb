{
 "cells": [
  {
   "cell_type": "code",
   "execution_count": 3,
   "metadata": {},
   "outputs": [
    {
     "name": "stdout",
     "output_type": "stream",
     "text": [
      "Replaced 397874 values smaller than 1e-10 with 0\n"
     ]
    }
   ],
   "source": [
    "# In fix_small_values.ipynb\n",
    "\n",
    "import pandas as pd\n",
    "import numpy as np\n",
    "\n",
    "# Read the CSV file\n",
    "filename = \"gee23_ST-min_NW-ref_2028_output.csv\"\n",
    "input_path = \"../data/output/\" + filename\n",
    "df = pd.read_csv(input_path, index_col=0)\n",
    "\n",
    "# Replace small values with 0\n",
    "threshold = 1e-10\n",
    "df = df.apply(lambda x: np.where(abs(x) < threshold, 0, x))\n",
    "\n",
    "# Save cleaned file \n",
    "output_filename = filename.replace(\".csv\", \"_cleaned.csv\")\n",
    "output_path = \"../data/output/\" + output_filename\n",
    "df.to_csv(output_path)\n",
    "\n",
    "# Print summary of changes\n",
    "small_values = (abs(df) < threshold).sum().sum()\n",
    "print(f\"Replaced {small_values} values smaller than {threshold} with 0\")"
   ]
  }
 ],
 "metadata": {
  "kernelspec": {
   "display_name": ".venv",
   "language": "python",
   "name": "python3"
  },
  "language_info": {
   "codemirror_mode": {
    "name": "ipython",
    "version": 3
   },
   "file_extension": ".py",
   "mimetype": "text/x-python",
   "name": "python",
   "nbconvert_exporter": "python",
   "pygments_lexer": "ipython3",
   "version": "3.9.13"
  }
 },
 "nbformat": 4,
 "nbformat_minor": 2
}
