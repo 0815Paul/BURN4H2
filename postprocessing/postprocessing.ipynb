{
 "cells": [
  {
   "cell_type": "markdown",
   "metadata": {},
   "source": [
    "Import packages"
   ]
  },
  {
   "cell_type": "code",
   "execution_count": 93,
   "metadata": {},
   "outputs": [],
   "source": [
    "import re\n",
    "import pandas as pd\n",
    "import matplotlib.pyplot as plt\n",
    "\n",
    "pd.set_option('display.max_colwidth', None)\n",
    "pd.set_option('display.expand_frame_repr', False)"
   ]
  },
  {
   "cell_type": "markdown",
   "metadata": {},
   "source": [
    "Set global variables"
   ]
  },
  {
   "cell_type": "code",
   "execution_count": 95,
   "metadata": {},
   "outputs": [],
   "source": [
    "OUTPUT_PATH = '../data/output/'"
   ]
  },
  {
   "cell_type": "markdown",
   "metadata": {},
   "source": [
    "Read output data"
   ]
  },
  {
   "cell_type": "code",
   "execution_count": 96,
   "metadata": {},
   "outputs": [
    {
     "name": "stdout",
     "output_type": "stream",
     "text": [
      "Index(['gas_price', 'power_price', 'chp.bin', 'chp.gas', 'chp.power',\n",
      "       'chp.heat', 'electrical_grid.overall_power',\n",
      "       'electrical_grid.supply_power', 'electrical_grid.feedin_power',\n",
      "       'battery_storage.overall_power', 'battery_storage.charging_power',\n",
      "       'battery_storage.discharging_power', 'battery_storage.energy',\n",
      "       'battery_storage.discharge_bin', 'battery_storage.charge_bin',\n",
      "       'battery_storage.switch_bin', 'battery_storage.cyclic_switch_bin',\n",
      "       'pv.power', 'electrolyzer.bin', 'electrolyzer.hydrogen',\n",
      "       'electrolyzer.power', 'electrolyzer.water', 'electrolyzer.heat',\n",
      "       'arc1_expanded.power', 'arc2_expanded.power', 'arc3_expanded.power',\n",
      "       'arc4_expanded.power', 'arc5_expanded.power'],\n",
      "      dtype='object')\n"
     ]
    }
   ],
   "source": [
    "output_df = pd.read_csv(OUTPUT_PATH + 'output_time_series.csv', index_col=0)\n",
    "print(output_df.columns)"
   ]
  },
  {
   "cell_type": "markdown",
   "metadata": {},
   "source": [
    "Prepare class for Assets"
   ]
  },
  {
   "cell_type": "code",
   "execution_count": 128,
   "metadata": {},
   "outputs": [],
   "source": [
    "class Assets:\n",
    "    \"\"\"Class for evaluating asset output data.\"\"\"\n",
    "\n",
    "    def __init__(self, input_data: pd.DataFrame) -> None:\n",
    "        self.ids = []\n",
    "        self.input_data = input_data\n",
    "        self.asset_data = {}\n",
    "        self.postprocess_data = {}\n",
    "        self.objective_value = None\n",
    "\n",
    "        self.get_asset_ids()\n",
    "        self.get_asset_data()\n",
    "        self.calc_postprocess_data()\n",
    "        self.get_objective_value_from_log()\n",
    "\n",
    "\n",
    "    def get_asset_ids(self):\n",
    "        \"\"\"Get all unique asset names from the input data.\"\"\"\n",
    "        ids_set = set()\n",
    "\n",
    "        for column_name in self.input_data.columns:\n",
    "            if not '.' in column_name:\n",
    "                continue\n",
    "            key = re.sub('\\..*$', '', column_name)      # Replace every character after a '.'.\n",
    "            key = key.replace('_expanded', '')          # Replace additional characters.\n",
    "            ids_set.add(key)                            # Remove duplicate keys.\n",
    "        \n",
    "        for id in ids_set:\n",
    "            self.ids.append(id)\n",
    "        \n",
    "        self.ids.sort()\n",
    "\n",
    "        if not self.ids:\n",
    "            raise ValueError(\"\"\"Found no asset ids in input data.\"\"\")\n",
    "\n",
    "\n",
    "    def get_asset_data(self):\n",
    "        \"\"\"Get the specific asset data from the input data.\"\"\"\n",
    "\n",
    "        for id in self.ids:\n",
    "            asset_df = pd.DataFrame()\n",
    "\n",
    "            for column_name in self.input_data.columns:\n",
    "                if id in column_name:\n",
    "                    key_name = re.sub('^.*\\.', '', column_name)\n",
    "                    asset_df[key_name] = self.input_data[column_name]\n",
    "            \n",
    "            self.asset_data[id] = asset_df\n",
    "\n",
    "\n",
    "    def calc_postprocess_data(self):\n",
    "        \"\"\"Calculates the sum of all columns in the asset data.\"\"\"\n",
    "\n",
    "        for key in self.asset_data:\n",
    "            asset_dict = {}\n",
    "            for column in self.asset_data[key].columns:\n",
    "                column_sum = self.asset_data[key][column].sum()\n",
    "                asset_dict[column] = column_sum\n",
    "                self.postprocess_data[key] = asset_dict\n",
    "    \n",
    "    \n",
    "    def get_objective_value_from_log(self):\n",
    "        \"\"\"Gets the objective value from the solver log file.\"\"\"\n",
    "\n",
    "        with open(OUTPUT_PATH + 'solver.log', 'r') as log_file:\n",
    "            for line in log_file:\n",
    "                if 'No other solutions better than' in line:\n",
    "                    self.objective_value = float(\n",
    "                        line.replace('No other solutions better than ', '')\n",
    "                    )\n",
    "                    \n",
    "\n",
    "    def check_objective_value(self):\n",
    "        \"\"\"Calculates the objective value from the output data and checks if it is identical \n",
    "        to the solver results.\"\"\"\n",
    "\n",
    "        result = sum(\n",
    "            self.asset_data['chp']['gas'] * self.input_data['gas_price'] +\n",
    "            self.asset_data['electrical_grid']['overall_power'] * self.input_data['power_price'] -\n",
    "            self.asset_data['electrolyzer']['hydrogen'] * self.input_data['gas_price'] * 2.5\n",
    "            )\n",
    "        result = round(result, 1)\n",
    "        \n",
    "        if result == self.objective_value:\n",
    "            print('\\nObjective value and calculated value are the same.')\n",
    "            print(f'{self.objective_value} == {result}')\n",
    "        else:\n",
    "            print('\\nObjective value and calculated value are not identical!')\n",
    "            print(f'{self.objective_value} =/= {result}')\n"
   ]
  },
  {
   "cell_type": "markdown",
   "metadata": {},
   "source": [
    "Calculate overview data for assets"
   ]
  },
  {
   "cell_type": "code",
   "execution_count": 129,
   "metadata": {},
   "outputs": [
    {
     "name": "stdout",
     "output_type": "stream",
     "text": [
      "                   arc1      arc2  arc3  arc4  arc5  battery_storage   chp  electrical_grid  electrolyzer        pv\n",
      "power              12.0  0.094668   9.0   9.0  85.0              NaN  12.0              NaN     85.000000  0.094668\n",
      "overall_power       NaN       NaN   NaN   NaN   NaN              0.0   NaN        72.905332           NaN       NaN\n",
      "charging_power      NaN       NaN   NaN   NaN   NaN              9.0   NaN              NaN           NaN       NaN\n",
      "discharging_power   NaN       NaN   NaN   NaN   NaN              9.0   NaN              NaN           NaN       NaN\n",
      "energy              NaN       NaN   NaN   NaN   NaN             42.0   NaN              NaN           NaN       NaN\n",
      "discharge_bin       NaN       NaN   NaN   NaN   NaN             15.0   NaN              NaN           NaN       NaN\n",
      "charge_bin          NaN       NaN   NaN   NaN   NaN              9.0   NaN              NaN           NaN       NaN\n",
      "switch_bin          NaN       NaN   NaN   NaN   NaN              3.0   NaN              NaN           NaN       NaN\n",
      "cyclic_switch_bin   NaN       NaN   NaN   NaN   NaN              1.0   NaN              NaN           NaN       NaN\n",
      "bin                 NaN       NaN   NaN   NaN   NaN              NaN   6.0              NaN      9.000000       NaN\n",
      "gas                 NaN       NaN   NaN   NaN   NaN              NaN  28.8              NaN           NaN       NaN\n",
      "heat                NaN       NaN   NaN   NaN   NaN              NaN  12.0              NaN     31.193528       NaN\n",
      "supply_power        NaN       NaN   NaN   NaN   NaN              NaN   NaN        94.000000           NaN       NaN\n",
      "feedin_power        NaN       NaN   NaN   NaN   NaN              NaN   NaN        21.094668           NaN       NaN\n",
      "hydrogen            NaN       NaN   NaN   NaN   NaN              NaN   NaN              NaN     43.524339       NaN\n",
      "water               NaN       NaN   NaN   NaN   NaN              NaN   NaN              NaN  13062.526791       NaN\n",
      "\n",
      "Objective value and calculated value are the same.\n",
      "-1247.5 == -1247.5\n"
     ]
    }
   ],
   "source": [
    "assets = Assets(output_df)\n",
    "\n",
    "df = pd.DataFrame(assets.postprocess_data)\n",
    "print(df)\n",
    "\n",
    "assets.check_objective_value()"
   ]
  },
  {
   "cell_type": "markdown",
   "metadata": {},
   "source": [
    "Create Plots"
   ]
  },
  {
   "cell_type": "code",
   "execution_count": 131,
   "metadata": {},
   "outputs": [
    {
     "data": {
      "image/png": "[encoded data removed]",
      "text/plain": [
       "<Figure size 768x576 with 1 Axes>"
      ]
     },
     "metadata": {},
     "output_type": "display_data"
    }
   ],
   "source": [
    "costs = (\n",
    "    assets.asset_data['chp']['gas'] * assets.input_data['gas_price'] +\n",
    "    assets.asset_data['electrical_grid']['overall_power'] * assets.input_data['power_price'] -\n",
    "    assets.asset_data['electrolyzer']['hydrogen'] * assets.input_data['gas_price'] * 2.5\n",
    ")\n",
    "\n",
    "plt.figure(dpi=120)\n",
    "costs.cumsum().plot(label='cumulative costs')\n",
    "plt.xlabel('t [h]')\n",
    "plt.ylabel('costs [EUR]')\n",
    "plt.grid()\n",
    "plt.legend()\n",
    "plt.tight_layout()"
   ]
  },
  {
   "cell_type": "code",
   "execution_count": null,
   "metadata": {},
   "outputs": [],
   "source": []
  }
 ],
 "metadata": {
  "kernelspec": {
   "display_name": ".venv",
   "language": "python",
   "name": "python3"
  },
  "language_info": {
   "codemirror_mode": {
    "name": "ipython",
    "version": 3
   },
   "file_extension": ".py",
   "mimetype": "text/x-python",
   "name": "python",
   "nbconvert_exporter": "python",
   "pygments_lexer": "ipython3",
   "version": "3.11.4"
  },
  "orig_nbformat": 4
 },
 "nbformat": 4,
 "nbformat_minor": 2
}
