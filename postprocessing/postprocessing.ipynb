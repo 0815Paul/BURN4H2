{
 "cells": [
  {
   "cell_type": "markdown",
   "metadata": {},
   "source": [
    "Import packages"
   ]
  },
  {
   "cell_type": "code",
   "execution_count": 19,
   "metadata": {},
   "outputs": [],
   "source": [
    "import re\n",
    "import pandas as pd\n",
    "import matplotlib.pyplot as plt\n",
    "\n",
    "pd.set_option('display.max_colwidth', None)\n",
    "pd.set_option('display.expand_frame_repr', False)"
   ]
  },
  {
   "cell_type": "markdown",
   "metadata": {},
   "source": [
    "Set global variables"
   ]
  },
  {
   "cell_type": "code",
   "execution_count": 20,
   "metadata": {},
   "outputs": [],
   "source": [
    "OUTPUT_PATH = '../data/postprocessing/231212_compare_electrolyzers/1x_gas_wi_storage_'"
   ]
  },
  {
   "cell_type": "markdown",
   "metadata": {},
   "source": [
    "Read output data"
   ]
  },
  {
   "cell_type": "code",
   "execution_count": 21,
   "metadata": {},
   "outputs": [
    {
     "name": "stdout",
     "output_type": "stream",
     "text": [
      "Index(['gas_price', 'power_price', 'chp.bin', 'chp.gas', 'chp.power',\n",
      "       'chp.heat', 'electrical_grid.overall_power',\n",
      "       'electrical_grid.supply_power', 'electrical_grid.feedin_power',\n",
      "       'battery_storage.power_balance', 'battery_storage.charging_power',\n",
      "       'battery_storage.discharging_power', 'battery_storage.energy_content',\n",
      "       'battery_storage.discharge_bin', 'battery_storage.charge_bin',\n",
      "       'battery_storage.switch_bin', 'pv.power', 'electrolyzer.bin',\n",
      "       'electrolyzer.hydrogen', 'electrolyzer.power', 'electrolyzer.water',\n",
      "       'electrolyzer.heat', 'hydrogen_grid.overall_hydrogen',\n",
      "       'hydrogen_grid.supply_hydrogen', 'hydrogen_grid.feedin_hydrogen',\n",
      "       'hydrogen_storage.hydrogen_balance',\n",
      "       'hydrogen_storage.charging_hydrogen',\n",
      "       'hydrogen_storage.discharging_hydrogen',\n",
      "       'hydrogen_storage.hydrogen_content', 'hydrogen_storage.charge_bin',\n",
      "       'hydrogen_storage.discharge_bin', 'arc1_expanded.power',\n",
      "       'arc2_expanded.power', 'arc3_expanded.power', 'arc4_expanded.power',\n",
      "       'arc5_expanded.power', 'arc6_expanded.hydrogen',\n",
      "       'arc8_expanded.hydrogen'],\n",
      "      dtype='object')\n"
     ]
    }
   ],
   "source": [
    "output_df = pd.read_csv(OUTPUT_PATH + 'output_time_series.csv', index_col=0)\n",
    "print(output_df.columns)"
   ]
  },
  {
   "cell_type": "markdown",
   "metadata": {},
   "source": [
    "Prepare class for Assets"
   ]
  },
  {
   "cell_type": "code",
   "execution_count": 22,
   "metadata": {},
   "outputs": [],
   "source": [
    "class Assets:\n",
    "    \"\"\"Class for evaluating asset output data.\"\"\"\n",
    "\n",
    "    def __init__(self, input_data: pd.DataFrame) -> None:\n",
    "        self.ids = []\n",
    "        self.input_data = input_data\n",
    "        self.asset_data = {}\n",
    "        self.postprocess_data = {}\n",
    "        self.objective_value = None\n",
    "\n",
    "        self.get_asset_ids()\n",
    "        self.get_asset_data()\n",
    "        self.calc_postprocess_data()\n",
    "        self.get_objective_value_from_log()\n",
    "\n",
    "\n",
    "    def get_asset_ids(self):\n",
    "        \"\"\"Get all unique asset names from the input data.\"\"\"\n",
    "        ids_set = set()\n",
    "\n",
    "        for column_name in self.input_data.columns:\n",
    "            if not '.' in column_name:\n",
    "                continue\n",
    "            key = re.sub('\\..*$', '', column_name)      # Replace every character after a '.'.\n",
    "            key = key.replace('_expanded', '')          # Replace additional characters.\n",
    "            ids_set.add(key)                            # Remove duplicate keys.\n",
    "        \n",
    "        for id in ids_set:\n",
    "            self.ids.append(id)\n",
    "        \n",
    "        self.ids.sort()\n",
    "\n",
    "        if not self.ids:\n",
    "            raise ValueError(\"\"\"Found no asset ids in input data.\"\"\")\n",
    "\n",
    "\n",
    "    def get_asset_data(self):\n",
    "        \"\"\"Get the specific asset data from the input data.\"\"\"\n",
    "\n",
    "        for id in self.ids:\n",
    "            asset_df = pd.DataFrame()\n",
    "\n",
    "            for column_name in self.input_data.columns:\n",
    "                if id in column_name:\n",
    "                    key_name = re.sub('^.*\\.', '', column_name)\n",
    "                    asset_df[key_name] = self.input_data[column_name]\n",
    "            \n",
    "            self.asset_data[id] = asset_df\n",
    "\n",
    "\n",
    "    def calc_postprocess_data(self):\n",
    "        \"\"\"Calculates the sum of all columns in the asset data.\"\"\"\n",
    "\n",
    "        for key in self.asset_data:\n",
    "            asset_dict = {}\n",
    "            for column in self.asset_data[key].columns:\n",
    "                column_sum = self.asset_data[key][column].sum()\n",
    "                asset_dict[column] = column_sum\n",
    "                self.postprocess_data[key] = asset_dict\n",
    "    \n",
    "    \n",
    "    def get_objective_value_from_log(self):\n",
    "        \"\"\"Gets the objective value from the solver log file.\"\"\"\n",
    "\n",
    "        with open(OUTPUT_PATH + 'solver.log', 'r') as log_file:\n",
    "            for line in log_file:\n",
    "                if 'Best objective' in line:\n",
    "                    line = line.replace('Best objective ', '')\n",
    "                    line = re.sub(',.*$', '', line)\n",
    "                    self.objective_value = round(float(line), 1)\n",
    "                    \n",
    "\n",
    "    def check_objective_value(self):\n",
    "        \"\"\"Calculates the objective value from the output data and checks if it is identical \n",
    "        to the solver results.\"\"\"\n",
    "\n",
    "        result = sum(\n",
    "            self.asset_data['chp']['gas'] * self.input_data['gas_price'] +\n",
    "            self.asset_data['electrical_grid']['overall_power'] * self.input_data['power_price'] +\n",
    "            self.asset_data['hydrogen_grid']['overall_hydrogen'] * self.input_data['gas_price'] * 1.0\n",
    "            )\n",
    "        result = round(result, 1)\n",
    "        \n",
    "        if result == self.objective_value:\n",
    "            print('\\nObjective value and calculated value are the same.')\n",
    "            print(f'{self.objective_value} == {result}')\n",
    "        else:\n",
    "            print('\\nObjective value and calculated value are not identical!')\n",
    "            print(f'{self.objective_value} =/= {result}')\n"
   ]
  },
  {
   "cell_type": "markdown",
   "metadata": {},
   "source": [
    "Calculate overview data for assets"
   ]
  },
  {
   "cell_type": "code",
   "execution_count": 23,
   "metadata": {},
   "outputs": [
    {
     "name": "stdout",
     "output_type": "stream",
     "text": [
      "                             arc1        arc2         arc3         arc4     arc5          arc6           arc8  battery_storage           chp  electrical_grid  electrolyzer  hydrogen_grid  hydrogen_storage          pv\n",
      "power                 720939.9461  1198.73992  348348.7776  348348.7776  54763.7           NaN            NaN              NaN  7.209399e+05              NaN  5.476370e+04            NaN               NaN  1198.73992\n",
      "hydrogen                      NaN         NaN          NaN          NaN      NaN  28040.378184  467130.059557              NaN           NaN              NaN  2.804038e+04            NaN               NaN         NaN\n",
      "power_balance                 NaN         NaN          NaN          NaN      NaN           NaN            NaN     3.069545e-12           NaN              NaN           NaN            NaN               NaN         NaN\n",
      "charging_power                NaN         NaN          NaN          NaN      NaN           NaN            NaN     3.483488e+05           NaN              NaN           NaN            NaN               NaN         NaN\n",
      "discharging_power             NaN         NaN          NaN          NaN      NaN           NaN            NaN     3.483488e+05           NaN              NaN           NaN            NaN               NaN         NaN\n",
      "energy_content                NaN         NaN          NaN          NaN      NaN           NaN            NaN     4.350851e+06           NaN              NaN           NaN            NaN               NaN         NaN\n",
      "discharge_bin                 NaN         NaN          NaN          NaN      NaN           NaN            NaN     5.109000e+03           NaN              NaN           NaN            NaN      3.368000e+03         NaN\n",
      "charge_bin                    NaN         NaN          NaN          NaN      NaN           NaN            NaN     3.651000e+03           NaN              NaN           NaN            NaN      5.392000e+03         NaN\n",
      "switch_bin                    NaN         NaN          NaN          NaN      NaN           NaN            NaN     1.377000e+03           NaN              NaN           NaN            NaN               NaN         NaN\n",
      "bin                           NaN         NaN          NaN          NaN      NaN           NaN            NaN              NaN  6.010000e+03              NaN  4.850000e+02            NaN               NaN         NaN\n",
      "gas                           NaN         NaN          NaN          NaN      NaN           NaN            NaN              NaN  1.802458e+06              NaN           NaN            NaN               NaN         NaN\n",
      "heat                          NaN         NaN          NaN          NaN      NaN           NaN            NaN              NaN  9.612533e+05              NaN  2.009658e+04            NaN               NaN         NaN\n",
      "overall_power                 NaN         NaN          NaN          NaN      NaN           NaN            NaN              NaN           NaN    -6.673750e+05           NaN            NaN               NaN         NaN\n",
      "supply_power                  NaN         NaN          NaN          NaN      NaN           NaN            NaN              NaN           NaN     4.031125e+05           NaN            NaN               NaN         NaN\n",
      "feedin_power                  NaN         NaN          NaN          NaN      NaN           NaN            NaN              NaN           NaN     1.070487e+06           NaN            NaN               NaN         NaN\n",
      "water                         NaN         NaN          NaN          NaN      NaN           NaN            NaN              NaN           NaN              NaN  8.415480e+06            NaN               NaN         NaN\n",
      "overall_hydrogen              NaN         NaN          NaN          NaN      NaN           NaN            NaN              NaN           NaN              NaN           NaN  -28040.378184               NaN         NaN\n",
      "supply_hydrogen               NaN         NaN          NaN          NaN      NaN           NaN            NaN              NaN           NaN              NaN           NaN  467130.059557               NaN         NaN\n",
      "feedin_hydrogen               NaN         NaN          NaN          NaN      NaN           NaN            NaN              NaN           NaN              NaN           NaN  495170.437741               NaN         NaN\n",
      "hydrogen_balance              NaN         NaN          NaN          NaN      NaN           NaN            NaN              NaN           NaN              NaN           NaN            NaN     -2.273737e-12         NaN\n",
      "charging_hydrogen             NaN         NaN          NaN          NaN      NaN           NaN            NaN              NaN           NaN              NaN           NaN            NaN      4.671301e+05         NaN\n",
      "discharging_hydrogen          NaN         NaN          NaN          NaN      NaN           NaN            NaN              NaN           NaN              NaN           NaN            NaN      4.671301e+05         NaN\n",
      "hydrogen_content              NaN         NaN          NaN          NaN      NaN           NaN            NaN              NaN           NaN              NaN           NaN            NaN      1.202272e+07         NaN\n",
      "\n",
      "Objective value and calculated value are the same.\n",
      "-42451444.1 == -42451444.1\n"
     ]
    }
   ],
   "source": [
    "assets = Assets(output_df)\n",
    "\n",
    "df = pd.DataFrame(assets.postprocess_data)\n",
    "print(df)\n",
    "\n",
    "assets.check_objective_value()"
   ]
  },
  {
   "cell_type": "markdown",
   "metadata": {},
   "source": [
    "Create Plots"
   ]
  },
  {
   "cell_type": "code",
   "execution_count": 24,
   "metadata": {},
   "outputs": [
    {
     "data": {
      "image/png": "[encoded data removed]",
      "text/plain": [
       "<Figure size 768x576 with 1 Axes>"
      ]
     },
     "metadata": {},
     "output_type": "display_data"
    }
   ],
   "source": [
    "costs = (\n",
    "    assets.asset_data['chp']['gas'] * assets.input_data['gas_price'] +\n",
    "    assets.asset_data['electrical_grid']['overall_power'] * assets.input_data['power_price'] -\n",
    "    assets.asset_data['electrolyzer']['hydrogen'] * assets.input_data['gas_price'] * 2.5\n",
    ")\n",
    "\n",
    "plt.figure(dpi=120)\n",
    "costs.cumsum().plot(label='cumulative costs')\n",
    "plt.xlabel('t [h]')\n",
    "plt.ylabel('costs [EUR]')\n",
    "plt.grid()\n",
    "plt.legend()\n",
    "plt.tight_layout()"
   ]
  },
  {
   "cell_type": "code",
   "execution_count": null,
   "metadata": {},
   "outputs": [],
   "source": []
  }
 ],
 "metadata": {
  "kernelspec": {
   "display_name": ".venv",
   "language": "python",
   "name": "python3"
  },
  "language_info": {
   "codemirror_mode": {
    "name": "ipython",
    "version": 3
   },
   "file_extension": ".py",
   "mimetype": "text/x-python",
   "name": "python",
   "nbconvert_exporter": "python",
   "pygments_lexer": "ipython3",
   "version": "3.11.4"
  },
  "orig_nbformat": 4
 },
 "nbformat": 4,
 "nbformat_minor": 2
}
