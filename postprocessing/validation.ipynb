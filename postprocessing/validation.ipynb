{
 "cells": [
  {
   "cell_type": "markdown",
   "metadata": {},
   "source": [
    "# Validation of Local Heat Supply"
   ]
  },
  {
   "cell_type": "code",
   "execution_count": 4,
   "metadata": {},
   "outputs": [
    {
     "name": "stdout",
     "output_type": "stream",
     "text": [
      "Sums over entire period:\n",
      "Local heat storage discharging: 7043.67 MWh\n",
      "Excess heat discharging: 9691.39 MWh\n",
      "Heat grid to local: 1760.92 MWh\n",
      "Local heat demand: 8804.59 MWh\n",
      "\n",
      "Percentage of local heat demand covered by storage: 80.00%\n",
      "\n",
      "Balance check (should be close to 0): 0.00 MWh\n"
     ]
    }
   ],
   "source": [
    "import pandas as pd\n",
    "\n",
    "# Read the CSV file\n",
    "df = pd.read_csv('../data/output/gee23_ST-min_NW-ref_2028_output_cleaned.csv')\n",
    "\n",
    "# Calculate sums\n",
    "local_heat_storage_discharging = df['local_heat_storage.heat_discharging'].sum()\n",
    "excess_heat_discharging = df['local_heat_storage.excess_heat_discharging'].sum()\n",
    "heat_grid_to_local = df['heat_grid.heat_grid_to_local'].sum()\n",
    "local_heat_demand = df['local_heat_demand'].sum()\n",
    "\n",
    "# Print results\n",
    "print(\"Sums over entire period:\")\n",
    "print(f\"Local heat storage discharging: {local_heat_storage_discharging:.2f} MWh\")\n",
    "print(f\"Excess heat discharging: {excess_heat_discharging:.2f} MWh\")\n",
    "print(f\"Heat grid to local: {heat_grid_to_local:.2f} MWh\")\n",
    "print(f\"Local heat demand: {local_heat_demand:.2f} MWh\")\n",
    "\n",
    "# Calculate percentage of local heat demand covered by storage\n",
    "storage_contribution = (local_heat_storage_discharging / local_heat_demand) * 100\n",
    "\n",
    "print(f\"\\nPercentage of local heat demand covered by storage: {storage_contribution:.2f}%\")\n",
    "\n",
    "# Verify balance\n",
    "total_supply = local_heat_storage_discharging + heat_grid_to_local\n",
    "balance_check = abs(total_supply - local_heat_demand)\n",
    "print(f\"\\nBalance check (should be close to 0): {balance_check:.2f} MWh\")"
   ]
  }
 ],
 "metadata": {
  "kernelspec": {
   "display_name": ".venv",
   "language": "python",
   "name": "python3"
  },
  "language_info": {
   "codemirror_mode": {
    "name": "ipython",
    "version": 3
   },
   "file_extension": ".py",
   "mimetype": "text/x-python",
   "name": "python",
   "nbconvert_exporter": "python",
   "pygments_lexer": "ipython3",
   "version": "3.9.13"
  }
 },
 "nbformat": 4,
 "nbformat_minor": 2
}
