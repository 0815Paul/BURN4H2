{
 "cells": [
  {
   "cell_type": "markdown",
   "metadata": {},
   "source": [
    "# Validation of Local Heat Supply"
   ]
  },
  {
   "cell_type": "code",
   "execution_count": 4,
   "metadata": {},
   "outputs": [
    {
     "name": "stdout",
     "output_type": "stream",
     "text": [
      "Sums over entire period:\n",
      "Local heat storage discharging: 7043.67 MWh\n",
      "Excess heat discharging: 9691.39 MWh\n",
      "Heat grid to local: 1760.92 MWh\n",
      "Local heat demand: 8804.59 MWh\n",
      "\n",
      "Percentage of local heat demand covered by storage: 80.00%\n",
      "\n",
      "Balance check (should be close to 0): 0.00 MWh\n"
     ]
    }
   ],
   "source": [
    "import pandas as pd\n",
    "\n",
    "# Read the CSV file\n",
    "df = pd.read_csv('../data/output/gee23_ST-min_NW-ref_2028_output_cleaned.csv')\n",
    "\n",
    "# Calculate sums\n",
    "local_heat_storage_discharging = df['local_heat_storage.heat_discharging'].sum()\n",
    "excess_heat_discharging = df['local_heat_storage.excess_heat_discharging'].sum()\n",
    "heat_grid_to_local = df['heat_grid.heat_grid_to_local'].sum()\n",
    "local_heat_demand = df['local_heat_demand'].sum()\n",
    "\n",
    "# Print results\n",
    "print(\"Sums over entire period:\")\n",
    "print(f\"Local heat storage discharging: {local_heat_storage_discharging:.2f} MWh\")\n",
    "print(f\"Excess heat discharging: {excess_heat_discharging:.2f} MWh\")\n",
    "print(f\"Heat grid to local: {heat_grid_to_local:.2f} MWh\")\n",
    "print(f\"Local heat demand: {local_heat_demand:.2f} MWh\")\n",
    "\n",
    "# Calculate percentage of local heat demand covered by storage\n",
    "storage_contribution = (local_heat_storage_discharging / local_heat_demand) * 100\n",
    "\n",
    "print(f\"\\nPercentage of local heat demand covered by storage: {storage_contribution:.2f}%\")\n",
    "\n",
    "# Verify balance\n",
    "total_supply = local_heat_storage_discharging + heat_grid_to_local\n",
    "balance_check = abs(total_supply - local_heat_demand)\n",
    "print(f\"\\nBalance check (should be close to 0): {balance_check:.2f} MWh\")"
   ]
  },
  {
   "cell_type": "markdown",
   "metadata": {},
   "source": [
    "## Mit Geothermie"
   ]
  },
  {
   "cell_type": "code",
   "execution_count": 10,
   "metadata": {},
   "outputs": [
    {
     "name": "stdout",
     "output_type": "stream",
     "text": [
      "Total power consumption: 162.69 MWh\n",
      "Average power price: 153.05 €/MWh\n",
      "Total operation costs: 27082.90 €\n"
     ]
    }
   ],
   "source": [
    "df_geo = pd.read_csv('../data/output/dummy_output_geo.csv')\n",
    "\n",
    "#print(df_s.columns)\n",
    "\n",
    "power_consumption = df_geo['heatpump_s2.power']  # MW\n",
    "power_price = df_geo['power_price']              # €/MWh\n",
    "hourly_costs = power_consumption * power_price  # €/h\n",
    "\n",
    "# Calculate total costs\n",
    "total_costs = hourly_costs.sum()  # €\n",
    "\n",
    "print(f\"Total power consumption: {power_consumption.sum():.2f} MWh\")\n",
    "print(f\"Average power price: {power_price.mean():.2f} €/MWh\")\n",
    "print(f\"Total operation costs: {total_costs:.2f} €\")\n",
    "\n"
   ]
  },
  {
   "cell_type": "markdown",
   "metadata": {},
   "source": [
    "## Ohne Geothermie"
   ]
  },
  {
   "cell_type": "code",
   "execution_count": 11,
   "metadata": {},
   "outputs": [
    {
     "name": "stdout",
     "output_type": "stream",
     "text": [
      "Total power consumption: 153.08 MWh\n",
      "Average power price: 153.05 €/MWh\n",
      "Total operation costs: 27749.82 €\n"
     ]
    }
   ],
   "source": [
    "df_s = pd.read_csv('../data/output/dummy_output.csv')\n",
    "\n",
    "#print(df_s.columns)\n",
    "\n",
    "power_consumption = df_s['heatpump_s2.power']  # MW\n",
    "power_price = df_s['power_price']              # €/MWh\n",
    "hourly_costs = power_consumption * power_price  # €/h\n",
    "\n",
    "# Calculate total costs\n",
    "total_costs = hourly_costs.sum()  # €\n",
    "\n",
    "print(f\"Total power consumption: {power_consumption.sum():.2f} MWh\")\n",
    "print(f\"Average power price: {power_price.mean():.2f} €/MWh\")\n",
    "print(f\"Total operation costs: {total_costs:.2f} €\")\n"
   ]
  }
 ],
 "metadata": {
  "kernelspec": {
   "display_name": ".venv",
   "language": "python",
   "name": "python3"
  },
  "language_info": {
   "codemirror_mode": {
    "name": "ipython",
    "version": 3
   },
   "file_extension": ".py",
   "mimetype": "text/x-python",
   "name": "python",
   "nbconvert_exporter": "python",
   "pygments_lexer": "ipython3",
   "version": "3.9.13"
  }
 },
 "nbformat": 4,
 "nbformat_minor": 2
}
