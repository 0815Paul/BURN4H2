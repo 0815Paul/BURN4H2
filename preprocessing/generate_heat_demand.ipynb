{
 "cells": [
  {
   "cell_type": "code",
   "execution_count": 8,
   "metadata": {},
   "outputs": [],
   "source": [
    "import pandas as pd"
   ]
  },
  {
   "cell_type": "code",
   "execution_count": 9,
   "metadata": {},
   "outputs": [],
   "source": [
    "def generate_hourly_data(hour):\n",
    "    if 8 <= hour <= 20:\n",
    "        return 180\n",
    "    else:\n",
    "        return 100"
   ]
  },
  {
   "cell_type": "code",
   "execution_count": 10,
   "metadata": {},
   "outputs": [],
   "source": [
    "hourly_data = [generate_hourly_data(hour) for hour in range(1, 25)]\n",
    "data = hourly_data * 7"
   ]
  },
  {
   "cell_type": "code",
   "execution_count": 11,
   "metadata": {},
   "outputs": [
    {
     "name": "stdout",
     "output_type": "stream",
     "text": [
      "     heat\n",
      "t        \n",
      "1     100\n",
      "2     100\n",
      "3     100\n",
      "4     100\n",
      "5     100\n",
      "..    ...\n",
      "164   180\n",
      "165   100\n",
      "166   100\n",
      "167   100\n",
      "168   100\n",
      "\n",
      "[168 rows x 1 columns]\n"
     ]
    }
   ],
   "source": [
    "df = pd.DataFrame(data, columns=['heat'])\n",
    "df.index.name = 't'\n",
    "df.index += 1\n",
    "print(df)\n",
    "df.to_csv('../data/input/demands/heat.csv')"
   ]
  },
  {
   "cell_type": "code",
   "execution_count": null,
   "metadata": {},
   "outputs": [],
   "source": []
  }
 ],
 "metadata": {
  "kernelspec": {
   "display_name": ".venv",
   "language": "python",
   "name": "python3"
  },
  "language_info": {
   "codemirror_mode": {
    "name": "ipython",
    "version": 3
   },
   "file_extension": ".py",
   "mimetype": "text/x-python",
   "name": "python",
   "nbconvert_exporter": "python",
   "pygments_lexer": "ipython3",
   "version": "3.11.4"
  }
 },
 "nbformat": 4,
 "nbformat_minor": 2
}
