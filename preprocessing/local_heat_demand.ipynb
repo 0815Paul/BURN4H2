{
 "cells": [
  {
   "cell_type": "code",
   "execution_count": null,
   "metadata": {},
   "outputs": [],
   "source": [
    "# Install required dependencies\n",
    "import sys\n",
    "import subprocess\n",
    "try:\n",
    "    import openpyxl\n",
    "except ImportError:\n",
    "    print(\"Installing openpyxl...\")\n",
    "    subprocess.check_call([sys.executable, \"-m\", \"pip\", \"install\", \"openpyxl\"])\n",
    "    print(\"openpyxl installed successfully!\")"
   ]
  },
  {
   "cell_type": "code",
   "execution_count": 5,
   "metadata": {},
   "outputs": [
    {
     "name": "stdout",
     "output_type": "stream",
     "text": []
    }
   ],
   "source": [
    "import pandas as pd\n",
    "\n",
    "# Replace 'your_file.xlsx' with the path to your Excel file\n",
    "PATH_IN = '../data/misc/profiles/'\n",
    "PATH_OUT = '../data/input/demands/'\n",
    "\n",
    "PROFILE = '250116_Lastänge_Alt-Lössnig.xlsx'\n",
    "\n",
    "YEARS = [2028, 2029, 2030, 2035, 2040, 2045, 2050]\n",
    "\n",
    "year_col_map = {\n",
    "    2028: (\"Datum\", \"Zeit\", \"Bedarf Alt-Lößnig_MW\", \"Vorlauftemperatur [°C]\", \"Rücklauftemperatur [°C]\"),\n",
    "    2029: (\"Datum.1\", \"Zeit.1\", \"Bedarf Alt-Lößnig_MW.1\", \"Vorlauftemperatur [°C].1\", \"Rücklauftemperatur [°C].1\"),\n",
    "    2030: (\"Datum.2\", \"Zeit.2\", \"Bedarf Alt-Lößnig_MW.2\", \"Vorlauftemperatur [°C].2\", \"Rücklauftemperatur [°C].2\"),\n",
    "    2035: (\"Datum.3\", \"Zeit.3\", \"Bedarf Alt-Lößnig_MW.3\", \"Vorlauftemperatur [°C].3\", \"Rücklauftemperatur [°C].3\"),\n",
    "    2040: (\"Datum.4\", \"Zeit.4\", \"Bedarf Alt-Lößnig_MW.4\", \"Vorlauftemperatur [°C].4\", \"Rücklauftemperatur [°C].4\"),\n",
    "    2045: (\"Datum.5\", \"Zeit.5\", \"Bedarf Alt-Lößnig_MW.5\", \"Vorlauftemperatur [°C].5\", \"Rücklauftemperatur [°C].5\"),\n",
    "    2050: (\"Datum.6\", \"Zeit.6\", \"Bedarf Alt-Lößnig_MW.6\", \"Vorlauftemperatur [°C].6\", \"Rücklauftemperatur [°C].6\"),\n",
    "}\n",
    "\n",
    "# Read the Excel file\n",
    "heat_demand = pd.read_excel(PATH_IN + PROFILE, sheet_name='Bedarf NW-Netz')\n",
    "heat_demand_ext = pd.read_excel(PATH_IN + PROFILE, sheet_name='Bedarf NW-Netz_zusätzl Abnehmer')\n",
    "\n",
    "# Display available column names for verification\n",
    "print(\"Available columns in heat_demand:\")\n",
    "print(heat_demand.columns.tolist())\n",
    "print(\"\\nAvailable columns in heat_demand_ext:\")\n",
    "print(heat_demand_ext.columns.tolist())\n",
    "\n",
    "\n",
    "# Extract the data for each year for the minimum profile\n",
    "for year, (date_col, time_col, gen_col, temp_fwd_col, temp_ret_col) in year_col_map.items():\n",
    "    df_year = heat_demand[[date_col, time_col, gen_col, temp_fwd_col, temp_ret_col]].copy()\n",
    "    df_year.columns = ['date', 'time', 'value', 'temp_fwd', 'temp_ret']\n",
    "    df_year['value'] = df_year['value'].astype(str).str.replace(',', '.').astype(float)\n",
    "    df_year['temp_fwd'] = df_year['temp_fwd'].astype(str).str.replace(',', '.').astype(float)\n",
    "    df_year['temp_ret'] = df_year['temp_ret'].astype(str).str.replace(',', '.').astype(float)\n",
    "    df_year = df_year.dropna(subset=['time'])\n",
    "    df_year.index = range(1, len(df_year) + 1)\n",
    "    df_year.index.name = 't'\n",
    "    df_year = df_year.drop(columns=['date', 'time'])\n",
    "    print(df_year.head())\n",
    "    df_year.to_csv(PATH_OUT + f'local_heat_{year}.csv')\n",
    "\n",
    "# Extract the data for each year for the maximum profile\n",
    "for year, (date_col, time_col, gen_col, temp_fwd_col, temp_ret_col) in year_col_map.items():\n",
    "    df_year = heat_demand_ext[[date_col, time_col, gen_col, temp_fwd_col, temp_ret_col]].copy()\n",
    "    df_year.columns = ['date', 'time', 'value', 'temp_fwd', 'temp_ret']\n",
    "    df_year['value'] = df_year['value'].astype(str).str.replace(',', '.').astype(float)\n",
    "    df_year['temp_fwd'] = df_year['temp_fwd'].astype(str).str.replace(',', '.').astype(float)\n",
    "    df_year['temp_ret'] = df_year['temp_ret'].astype(str).str.replace(',', '.').astype(float)\n",
    "    df_year = df_year.dropna(subset=['time'])\n",
    "    df_year.index = range(1, len(df_year) + 1)\n",
    "    df_year.index.name = 't'\n",
    "    df_year = df_year.drop(columns=['date', 'time'])\n",
    "    print(df_year.head())\n",
    "    df_year.to_csv(PATH_OUT + f'local_heat_ext_{year}.csv')\n",
    "\n",
    "\n",
    "\n"
   ]
  }
 ],
 "metadata": {
  "kernelspec": {
   "display_name": ".venv",
   "language": "python",
   "name": "python3"
  },
  "language_info": {
   "codemirror_mode": {
    "name": "ipython",
    "version": 3
   },
   "file_extension": ".py",
   "mimetype": "text/x-python",
   "name": "python",
   "nbconvert_exporter": "python",
   "pygments_lexer": "ipython3",
   "version": "3.13.2"
  }
 },
 "nbformat": 4,
 "nbformat_minor": 2
}
