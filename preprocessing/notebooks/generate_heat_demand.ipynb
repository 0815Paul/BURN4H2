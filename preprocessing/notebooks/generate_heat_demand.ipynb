{
 "cells": [
  {
   "cell_type": "code",
   "execution_count": 4,
   "metadata": {},
   "outputs": [
    {
     "name": "stdout",
     "output_type": "stream",
     "text": [
      "Normales Jahr: 8760 Datenpunkte\n",
      "Schaltjahr: 8784 Datenpunkte\n",
      "Wärmebedarfsdaten wurden erfolgreich erstellt:\n",
      "Normales Jahr: ../../data/input/demands/district_heating/default/heat_normal.csv\n",
      "Schaltjahr: ../../data/input/demands/district_heating/default/heat_leap.csv\n"
     ]
    }
   ],
   "source": [
    "import pandas as pd\n",
    "\n",
    "# Konstante für den jährlichen Wärmebedarf\n",
    "ANNUAL_DEMAND = 500000.0   # heat demand in MWh/a\n",
    "\n",
    "# Pfade zu den Eingabedateien\n",
    "path_normal = '../../data/misc/distributions/reference_heat_demand_normal.txt'\n",
    "path_leap = '../../data/misc/distributions/reference_heat_demand_leap.txt'\n",
    "\n",
    "# Pfade zu den Ausgabedateien\n",
    "output_normal = '../../data/input/demands/district_heating/default/heat_normal.csv'\n",
    "output_leap = '../../data/input/demands/district_heating/default/heat_leap.csv'\n",
    "\n",
    "# Einlesen und Verarbeiten der Daten für normale Jahre\n",
    "df_normal = pd.read_csv(\n",
    "    path_normal, \n",
    "    sep=';', \n",
    "    decimal=',', \n",
    "    names=['heat']\n",
    ")\n",
    "df_normal.index.name = 't'\n",
    "df_normal.index += 1\n",
    "df_normal['heat'] = df_normal['heat'] * ANNUAL_DEMAND\n",
    "print(f\"Normales Jahr: {len(df_normal)} Datenpunkte\")\n",
    "df_normal.to_csv(output_normal)\n",
    "\n",
    "# Einlesen und Verarbeiten der Daten für Schaltjahre\n",
    "df_leap = pd.read_csv(\n",
    "    path_leap, \n",
    "    sep=';', \n",
    "    decimal=',', \n",
    "    names=['heat']\n",
    ")\n",
    "df_leap.index.name = 't'\n",
    "df_leap.index += 1\n",
    "df_leap['heat'] = df_leap['heat'] * ANNUAL_DEMAND\n",
    "print(f\"Schaltjahr: {len(df_leap)} Datenpunkte\")\n",
    "df_leap.to_csv(output_leap)\n",
    "\n",
    "print(f\"Wärmebedarfsdaten wurden erfolgreich erstellt:\")\n",
    "print(f\"Normales Jahr: {output_normal}\")\n",
    "print(f\"Schaltjahr: {output_leap}\")"
   ]
  }
 ],
 "metadata": {
  "kernelspec": {
   "display_name": ".venv",
   "language": "python",
   "name": "python3"
  },
  "language_info": {
   "codemirror_mode": {
    "name": "ipython",
    "version": 3
   },
   "file_extension": ".py",
   "mimetype": "text/x-python",
   "name": "python",
   "nbconvert_exporter": "python",
   "pygments_lexer": "ipython3",
   "version": "3.13.2"
  }
 },
 "nbformat": 4,
 "nbformat_minor": 2
}
