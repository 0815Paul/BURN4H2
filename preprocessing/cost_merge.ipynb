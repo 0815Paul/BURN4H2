{
 "cells": [
  {
   "cell_type": "code",
   "execution_count": 1,
   "metadata": {},
   "outputs": [],
   "source": [
    "import pandas as pd"
   ]
  },
  {
   "cell_type": "code",
   "execution_count": 14,
   "metadata": {},
   "outputs": [
    {
     "data": {
      "text/html": [
       "<div>\n",
       "<style scoped>\n",
       "    .dataframe tbody tr th:only-of-type {\n",
       "        vertical-align: middle;\n",
       "    }\n",
       "\n",
       "    .dataframe tbody tr th {\n",
       "        vertical-align: top;\n",
       "    }\n",
       "\n",
       "    .dataframe thead th {\n",
       "        text-align: right;\n",
       "    }\n",
       "</style>\n",
       "<table border=\"1\" class=\"dataframe\">\n",
       "  <thead>\n",
       "    <tr style=\"text-align: right;\">\n",
       "      <th></th>\n",
       "      <th>Netzverkauf</th>\n",
       "      <th>Einkauf_Gas</th>\n",
       "    </tr>\n",
       "    <tr>\n",
       "      <th>t</th>\n",
       "      <th></th>\n",
       "      <th></th>\n",
       "    </tr>\n",
       "  </thead>\n",
       "  <tbody>\n",
       "    <tr>\n",
       "      <th>1</th>\n",
       "      <td>114.12</td>\n",
       "      <td>70.037</td>\n",
       "    </tr>\n",
       "    <tr>\n",
       "      <th>2</th>\n",
       "      <td>113.79</td>\n",
       "      <td>70.037</td>\n",
       "    </tr>\n",
       "    <tr>\n",
       "      <th>3</th>\n",
       "      <td>113.79</td>\n",
       "      <td>70.037</td>\n",
       "    </tr>\n",
       "    <tr>\n",
       "      <th>4</th>\n",
       "      <td>111.79</td>\n",
       "      <td>70.037</td>\n",
       "    </tr>\n",
       "    <tr>\n",
       "      <th>5</th>\n",
       "      <td>111.78</td>\n",
       "      <td>70.037</td>\n",
       "    </tr>\n",
       "    <tr>\n",
       "      <th>...</th>\n",
       "      <td>...</td>\n",
       "      <td>...</td>\n",
       "    </tr>\n",
       "    <tr>\n",
       "      <th>8780</th>\n",
       "      <td>199.29</td>\n",
       "      <td>70.037</td>\n",
       "    </tr>\n",
       "    <tr>\n",
       "      <th>8781</th>\n",
       "      <td>133.18</td>\n",
       "      <td>70.037</td>\n",
       "    </tr>\n",
       "    <tr>\n",
       "      <th>8782</th>\n",
       "      <td>125.27</td>\n",
       "      <td>70.037</td>\n",
       "    </tr>\n",
       "    <tr>\n",
       "      <th>8783</th>\n",
       "      <td>127.15</td>\n",
       "      <td>70.037</td>\n",
       "    </tr>\n",
       "    <tr>\n",
       "      <th>8784</th>\n",
       "      <td>124.78</td>\n",
       "      <td>70.037</td>\n",
       "    </tr>\n",
       "  </tbody>\n",
       "</table>\n",
       "<p>8784 rows × 2 columns</p>\n",
       "</div>"
      ],
      "text/plain": [
       "      Netzverkauf  Einkauf_Gas\n",
       "t                             \n",
       "1          114.12       70.037\n",
       "2          113.79       70.037\n",
       "3          113.79       70.037\n",
       "4          111.79       70.037\n",
       "5          111.78       70.037\n",
       "...           ...          ...\n",
       "8780       199.29       70.037\n",
       "8781       133.18       70.037\n",
       "8782       125.27       70.037\n",
       "8783       127.15       70.037\n",
       "8784       124.78       70.037\n",
       "\n",
       "[8784 rows x 2 columns]"
      ]
     },
     "execution_count": 14,
     "metadata": {},
     "output_type": "execute_result"
    }
   ],
   "source": [
    "df_power = pd.read_csv('../data/input/prices/gee23/power_price_2024.csv')\n",
    "df_gas = pd.read_csv('../data/input/prices/gee23/gas_price_2024.csv')\n",
    "\n",
    "df_cost = df_power.merge(df_gas, on='t')\n",
    "df_cost.index = df_cost['t']\n",
    "df_cost.drop(columns='t', inplace=True)\n",
    "df_cost.rename(columns={'value_x': 'Netzverkauf', 'value_y': 'Einkauf_Gas'}, inplace=True)\n",
    "\n",
    "\n",
    "df_cost\n"
   ]
  },
  {
   "cell_type": "code",
   "execution_count": 20,
   "metadata": {},
   "outputs": [],
   "source": [
    "df_cost.index = pd.date_range(start='01.01.2024 00:00', periods=8784, freq='H')\n",
    "df_cost.index = df_cost.index.strftime('%d.%m.%Y %H:%M')\n",
    "\n",
    "df_cost.index.name = 'snapshots'\n",
    "\n",
    "df_cost.to_csv('../data/output/costs_2024.csv', index_label='snapshots')"
   ]
  },
  {
   "cell_type": "code",
   "execution_count": null,
   "metadata": {},
   "outputs": [],
   "source": []
  }
 ],
 "metadata": {
  "kernelspec": {
   "display_name": ".venv",
   "language": "python",
   "name": "python3"
  },
  "language_info": {
   "codemirror_mode": {
    "name": "ipython",
    "version": 3
   },
   "file_extension": ".py",
   "mimetype": "text/x-python",
   "name": "python",
   "nbconvert_exporter": "python",
   "pygments_lexer": "ipython3",
   "version": "3.11.4"
  }
 },
 "nbformat": 4,
 "nbformat_minor": 2
}
