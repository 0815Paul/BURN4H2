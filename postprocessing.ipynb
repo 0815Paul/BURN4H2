{
 "cells": [
  {
   "cell_type": "markdown",
   "metadata": {},
   "source": [
    "Import packages"
   ]
  },
  {
   "cell_type": "code",
   "execution_count": 1,
   "metadata": {},
   "outputs": [],
   "source": [
    "import pandas as pd"
   ]
  },
  {
   "cell_type": "markdown",
   "metadata": {},
   "source": [
    "Set global variables"
   ]
  },
  {
   "cell_type": "code",
   "execution_count": 2,
   "metadata": {},
   "outputs": [],
   "source": [
    "PATH_IN = 'data/output/'\n",
    "\n",
    "SCENARIO = 'testing'\n",
    "YEAR = '2024'"
   ]
  },
  {
   "cell_type": "markdown",
   "metadata": {},
   "source": [
    "Read output data"
   ]
  },
  {
   "cell_type": "code",
   "execution_count": 3,
   "metadata": {},
   "outputs": [
    {
     "name": "stdout",
     "output_type": "stream",
     "text": [
      "Index(['power_price', 'gas_price', 'bhkw_bin', 'storage_bin', 'bhkw_gas',\n",
      "       'bhkw_power', 'bhkw_heat', 'plant_power', 'storage_power',\n",
      "       'storage_energy'],\n",
      "      dtype='object')\n"
     ]
    }
   ],
   "source": [
    "if SCENARIO == 'testing':\n",
    "    path_input = PATH_IN + SCENARIO + '/'\n",
    "else:\n",
    "    path_input = PATH_IN + SCENARIO + '/' + YEAR + '/'\n",
    "\n",
    "output_df = pd.read_csv(path_input + 'output_time_series.csv', index_col=0)\n",
    "output_df.index.name = 't'\n",
    "print(output_df.columns)"
   ]
  },
  {
   "cell_type": "markdown",
   "metadata": {},
   "source": [
    "Prepare class for Assets"
   ]
  },
  {
   "cell_type": "code",
   "execution_count": 4,
   "metadata": {},
   "outputs": [],
   "source": [
    "class Asset:\n",
    "    \"\"\"Class for evaluating asset output data.\"\"\"\n",
    "\n",
    "    def __init__(self, asset_id) -> None:\n",
    "        self.id: str = asset_id\n",
    "        self.postprocess_data: dict = {}\n",
    "        self.asset_data: pd.DataFrame = pd.DataFrame()\n",
    "\n",
    "    def get_asset_data(self, output_df: pd.DataFrame):\n",
    "        \"\"\" Gets all columns from output_df with the asset id in it. \"\"\"\n",
    "\n",
    "        for column_name in output_df.columns:\n",
    "            if self.id in column_name:\n",
    "                self.asset_data[column_name] = output_df[column_name]\n",
    "        \n",
    "        if self.asset_data.empty:\n",
    "            print(f'Found no data for {self.id}.')\n",
    "    \n",
    "    def calc_costs(self, output_df: pd.DataFrame):\n",
    "        \"\"\" Calculates costs for the asset.\"\"\"\n",
    "\n",
    "        for column in self.asset_data.columns:\n",
    "            if '_gas' in column:\n",
    "                self.asset_data[f'{self.id}_gas_cost'] = (\n",
    "                    self.asset_data[f'{self.id}_gas'] \n",
    "                    * output_df['gas_price']\n",
    "                )\n",
    "\n",
    "            elif '_power' in column:\n",
    "                self.asset_data[f'{self.id}_power_cost'] = (\n",
    "                    self.asset_data[f'{self.id}_power'].where(\n",
    "                    self.asset_data[f'{self.id}_power'] <= 0                    \n",
    "                    )\n",
    "                    * output_df['power_price']\n",
    "                )\n",
    "\n",
    "                self.asset_data[f'{self.id}_power_revenue'] = (\n",
    "                    self.asset_data[f'{self.id}_power'].where(\n",
    "                    self.asset_data[f'{self.id}_power'] >= 0                    \n",
    "                    )\n",
    "                    * output_df['power_price']\n",
    "                ) \n",
    "\n",
    "    def calc_postprocess_data(self):\n",
    "        \"\"\" Calculates the sum of all columns in the asset data.\"\"\"\n",
    "\n",
    "        for column in self.asset_data.columns:\n",
    "            column_sum = self.asset_data[column].sum()\n",
    "            key_name = column.replace((self.id + '_'), '')\n",
    "            self.postprocess_data[key_name] = column_sum"
   ]
  },
  {
   "cell_type": "markdown",
   "metadata": {},
   "source": [
    "Calculate overview data for assets"
   ]
  },
  {
   "cell_type": "code",
   "execution_count": 5,
   "metadata": {},
   "outputs": [
    {
     "name": "stdout",
     "output_type": "stream",
     "text": [
      "{'bhkw': {'bin': 10.0, 'gas': 38.8, 'power': 16.0, 'heat': 16.0, 'gas_cost': 679.1999999999999, 'power_cost': 0.0, 'power_revenue': 769.0}, 'storage': {'bin': 0.0, 'power': 0.0, 'energy': 0.0, 'power_cost': 0.0, 'power_revenue': 0.0}, 'plant': {'power': 16.0, 'power_cost': 0.0, 'power_revenue': 769.0}, 'price': {'power_price': 692.0, 'gas_price': 420.0}}\n",
      "                bhkw  storage  plant  price\n",
      "bin             10.0      0.0    NaN    NaN\n",
      "gas             38.8      NaN    NaN    NaN\n",
      "power           16.0      0.0   16.0    NaN\n",
      "heat            16.0      NaN    NaN    NaN\n",
      "gas_cost       679.2      NaN    NaN    NaN\n",
      "power_cost       0.0      0.0    0.0    NaN\n",
      "power_revenue  769.0      0.0  769.0    NaN\n",
      "energy           NaN      0.0    NaN    NaN\n",
      "power_price      NaN      NaN    NaN  692.0\n",
      "gas_price        NaN      NaN    NaN  420.0\n"
     ]
    }
   ],
   "source": [
    "assets_dict = {}\n",
    "for asset in ['bhkw', 'storage', 'plant', 'price']:\n",
    "    assets_dict[asset] = Asset(asset)\n",
    "    assets_dict[asset].get_asset_data(output_df)\n",
    "    assets_dict[asset].calc_costs(output_df)\n",
    "    assets_dict[asset].calc_postprocess_data()\n",
    "\n",
    "\n",
    "postprocess_dict = {}\n",
    "for asset in assets_dict.keys():\n",
    "    postprocess_dict[asset] = assets_dict[asset].postprocess_data\n",
    "\n",
    "print(postprocess_dict)\n",
    "\n",
    "df = pd.DataFrame(postprocess_dict)\n",
    "print(df)"
   ]
  },
  {
   "cell_type": "markdown",
   "metadata": {},
   "source": [
    "Define function for checking the objectiv value"
   ]
  },
  {
   "cell_type": "code",
   "execution_count": 6,
   "metadata": {},
   "outputs": [],
   "source": [
    "def check_objective_value(output_dict):\n",
    "    result = (output_dict['bhkw']['gas_cost'] \n",
    "              - output_dict['plant']['power_revenue']\n",
    "              )\n",
    "    obj_value = (pd.read_csv(path_input + 'results.csv', index_col=0)).iloc[0].values[0]\n",
    "    \n",
    "    if result == obj_value:\n",
    "        print('Objective value and calculated value are the same.')\n",
    "        print(f'{obj_value} == {result}')\n",
    "    \n",
    "    else:\n",
    "        print('Objective value and calculated value are not identical!')\n",
    "        print(f'{obj_value} =/= {result}')"
   ]
  },
  {
   "cell_type": "code",
   "execution_count": 7,
   "metadata": {},
   "outputs": [
    {
     "name": "stdout",
     "output_type": "stream",
     "text": [
      "Objective value and calculated value are the same.\n",
      "-89.80000000000007 == -89.80000000000007\n"
     ]
    }
   ],
   "source": [
    "check_objective_value(postprocess_dict)"
   ]
  }
 ],
 "metadata": {
  "kernelspec": {
   "display_name": ".venv",
   "language": "python",
   "name": "python3"
  },
  "language_info": {
   "codemirror_mode": {
    "name": "ipython",
    "version": 3
   },
   "file_extension": ".py",
   "mimetype": "text/x-python",
   "name": "python",
   "nbconvert_exporter": "python",
   "pygments_lexer": "ipython3",
   "version": "3.10.5"
  },
  "orig_nbformat": 4
 },
 "nbformat": 4,
 "nbformat_minor": 2
}
