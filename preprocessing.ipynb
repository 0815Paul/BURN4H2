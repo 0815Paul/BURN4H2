{
 "cells": [
  {
   "cell_type": "markdown",
   "metadata": {},
   "source": [
    "Import packages"
   ]
  },
  {
   "cell_type": "code",
   "execution_count": 6,
   "metadata": {},
   "outputs": [],
   "source": [
    "import os\n",
    "import pandas as pd\n",
    "from datetime import datetime"
   ]
  },
  {
   "cell_type": "markdown",
   "metadata": {},
   "source": [
    "Set global variables"
   ]
  },
  {
   "cell_type": "code",
   "execution_count": 7,
   "metadata": {},
   "outputs": [],
   "source": [
    "PATH_IN = 'data/raw/'\n",
    "PATH_OUT = 'data/input/'\n",
    "\n",
    "SCENARIOS = ['GEE23', 'KT23', 'UE23']\n",
    "SHEETS = ['Gaspreise_Struktur_2016_', 'Strompreise_Strukt_2016_']"
   ]
  },
  {
   "cell_type": "markdown",
   "metadata": {},
   "source": [
    "Define function for reading the xlsx file"
   ]
  },
  {
   "cell_type": "code",
   "execution_count": 8,
   "metadata": {},
   "outputs": [],
   "source": [
    "def get_data_from_xlsx(xlsx_file: pd.ExcelFile, sheet_name: str):\n",
    "    \"\"\" Reads a xlsx file according to the template of the Zukunftsbilder. \"\"\"\n",
    "\n",
    "    # Reading spreadsheet from the xlsx\n",
    "    price_df = pd.read_excel(\n",
    "        xlsx_file,\n",
    "        sheet_name=sheet_name,\n",
    "        skiprows=9)\n",
    "    \n",
    "    # Increasing index by 1\n",
    "    price_df.index += 1\n",
    "\n",
    "    # Preparing variables\n",
    "    column_names = price_df.columns\n",
    "    data_dict = {}\n",
    "\n",
    "    # Iterating through spreadsheet data\n",
    "    for pos, name in enumerate(column_names):\n",
    "        data = price_df.loc[:, name]\n",
    "\n",
    "        # Checking if actual column contains timestamps\n",
    "        if isinstance(data.iloc[0], datetime):\n",
    "            year = str(data.iloc[0].year)\n",
    "\n",
    "            # Adding data to result dictionary\n",
    "            data_dict[year] = price_df.loc[:, column_names[pos + 1]].dropna().to_dict()      \n",
    "        else:\n",
    "            continue\n",
    "    \n",
    "    return data_dict"
   ]
  },
  {
   "cell_type": "markdown",
   "metadata": {},
   "source": [
    "Process raw data into input csv files"
   ]
  },
  {
   "cell_type": "code",
   "execution_count": 9,
   "metadata": {},
   "outputs": [
    {
     "name": "stdout",
     "output_type": "stream",
     "text": [
      "GEE23\n",
      "Gaspreise_Struktur_2016_\n",
      "Strompreise_Strukt_2016_\n",
      "KT23\n",
      "Gaspreise_Struktur_2016_\n",
      "Strompreise_Strukt_2016_\n",
      "UE23\n",
      "Gaspreise_Struktur_2016_\n",
      "Strompreise_Strukt_2016_\n"
     ]
    }
   ],
   "source": [
    "for scenario in SCENARIOS:\n",
    "        print(scenario)\n",
    "        path_out = PATH_OUT + '/' + scenario + '/'\n",
    "\n",
    "        # Check if directories for saving the processed data exist\n",
    "        if not os.path.exists(path_out):\n",
    "            os.makedirs(path_out)\n",
    "\n",
    "        # Read raw xlsx data        \n",
    "        xlsx_path = PATH_IN + 'Zeitreihen_Struktur_2016_' + scenario + '_nicht_freigegeben.xlsx'\n",
    "        xlsx = pd.ExcelFile(xlsx_path)\n",
    "\n",
    "        # Iterate through the excel sheets in the xlsx file and create a data dictionary\n",
    "        for sheet in SHEETS:\n",
    "            print(sheet)\n",
    "            data = get_data_from_xlsx(\n",
    "                xlsx_file=xlsx,\n",
    "                sheet_name=sheet + scenario.replace('23', '2023')\n",
    "                )\n",
    "        \n",
    "            # Save each key in the data dctionary to a csv file\n",
    "            for key in data.keys():\n",
    "                df = pd.DataFrame.from_dict(data[key], orient='index', columns=['value'])\n",
    "                df.index.name='t'\n",
    "                if sheet is SHEETS[0]:\n",
    "                    df.to_csv(path_out + 'gas_price_' + key + '.csv')\n",
    "                else:\n",
    "                    df.to_csv(path_out + 'power_price_' + key + '.csv')"
   ]
  }
 ],
 "metadata": {
  "kernelspec": {
   "display_name": ".venv",
   "language": "python",
   "name": "python3"
  },
  "language_info": {
   "codemirror_mode": {
    "name": "ipython",
    "version": 3
   },
   "file_extension": ".py",
   "mimetype": "text/x-python",
   "name": "python",
   "nbconvert_exporter": "python",
   "pygments_lexer": "ipython3",
   "version": "3.10.5"
  },
  "orig_nbformat": 4
 },
 "nbformat": 4,
 "nbformat_minor": 2
}
